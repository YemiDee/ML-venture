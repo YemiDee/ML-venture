{
 "cells": [
  {
   "cell_type": "markdown",
   "id": "44d876aa",
   "metadata": {},
   "source": [
    "Introduction: The goal of this task is to predict the intent of the customer given their query text input. The dataset is ATIS (Airline Travel Information System) and consists of (query, intent) pairs. For this problem, you will implement the Bag of Word technique and a fully connected neural network to predict the intent of query text."
   ]
  },
  {
   "cell_type": "code",
   "execution_count": 4,
   "id": "70180ea0",
   "metadata": {},
   "outputs": [
    {
     "name": "stderr",
     "output_type": "stream",
     "text": [
      "C:\\Users\\HP OMEN\\AppData\\Local\\Temp\\ipykernel_26696\\429407754.py:15: DeprecationWarning: `np.float` is a deprecated alias for the builtin `float`. To silence this warning, use `float` by itself. Doing this will not modify any behavior and is safe. If you specifically wanted the numpy scalar type, use `np.float64` here.\n",
      "Deprecated in NumPy 1.20; for more details and guidance: https://numpy.org/devdocs/release/1.20.0-notes.html#deprecations\n",
      "  train_labels_one_hot = (lr==train_labels).astype(np.float)\n",
      "C:\\Users\\HP OMEN\\AppData\\Local\\Temp\\ipykernel_26696\\429407754.py:16: DeprecationWarning: `np.float` is a deprecated alias for the builtin `float`. To silence this warning, use `float` by itself. Doing this will not modify any behavior and is safe. If you specifically wanted the numpy scalar type, use `np.float64` here.\n",
      "Deprecated in NumPy 1.20; for more details and guidance: https://numpy.org/devdocs/release/1.20.0-notes.html#deprecations\n",
      "  test_labels_one_hot = (lr==test_labels).astype(np.float)\n"
     ]
    },
    {
     "name": "stdout",
     "output_type": "stream",
     "text": [
      "Data loaded.\n",
      "accruracy: test 0.9612\n"
     ]
    }
   ],
   "source": [
    "from __future__ import division\n",
    "import matplotlib.pyplot as plt\n",
    "import numpy as np\n",
    "from scipy.special import expit as activation_function  # 1/(1+exp(-x)), sigmoid\n",
    "from scipy.stats import truncnorm\n",
    "\n",
    "if True:  # recreate MNIST arrays. Do it only once, after that modify to False\n",
    "    train_data = np.loadtxt(\"dataset/mnist_train.csv\", delimiter=\",\")\n",
    "    test_data = np.loadtxt(\"dataset/mnist_test.csv\", delimiter=\",\")\n",
    "    train_imgs = np.asfarray(train_data[:, 1:]) / 255.0\n",
    "    test_imgs = np.asfarray(test_data[:, 1:]) / 255.0\n",
    "    train_labels = np.asfarray(train_data[:, :1])\n",
    "    test_labels = np.asfarray(test_data[:, :1])\n",
    "    lr = np.arange(10)\n",
    "    train_labels_one_hot = (lr==train_labels).astype(np.float)\n",
    "    test_labels_one_hot = (lr==test_labels).astype(np.float)\n",
    "    for i, d in enumerate([train_imgs, test_imgs, train_labels, test_labels, train_labels_one_hot, test_labels_one_hot]):\n",
    "        np.save('%i.array' % i, d)\n",
    "\n",
    "(train_imgs, test_imgs, train_labels, test_labels, train_labels_one_hot, test_labels_one_hot) = [np.load('%i.array.npy' % i) for i in range(6)]\n",
    "\n",
    "print ('Data loaded.')\n",
    "\n",
    "if False:  # show images\n",
    "    for i in range(10):\n",
    "        img = train_imgs[i].reshape((28,28))\n",
    "        plt.imshow(img, cmap=\"Greys\")\n",
    "        plt.show()\n",
    "\n",
    "class NeuralNetwork:\n",
    "    def __init__(self, network_structure, learning_rate, bias=None):  \n",
    "        self.structure = network_structure\n",
    "        self.no_of_layers = len(self.structure)\n",
    "        self.learning_rate = learning_rate \n",
    "        self.bias = bias\n",
    "        self.create_weight_matrices()\n",
    "\n",
    "    def create_weight_matrices(self):\n",
    "        bias_node = 1 if self.bias else 0\n",
    "        self.weights_matrices = []\n",
    "        for k in range(self.no_of_layers-1):\n",
    "            nodes_in = self.structure[k]\n",
    "            nodes_out = self.structure[k+1]\n",
    "            n = (nodes_in + bias_node) * nodes_out\n",
    "            X = truncnorm(-1, 1,  loc=0, scale=1)\n",
    "            #X = truncnorm(-1 / np.sqrt(nodes_in), 1 / np.sqrt(nodes_in),  loc=0, scale=1)  # accuracy is worse\n",
    "            wm = X.rvs(n).reshape((nodes_out, nodes_in + bias_node))\n",
    "            self.weights_matrices.append(wm)\n",
    "\n",
    "    def train(self, input_vector, target_vector): \n",
    "        input_vector = np.array(input_vector, ndmin=2).T\n",
    "        res_vectors = [input_vector]\n",
    "        for k in range(self.no_of_layers-1):\n",
    "            in_vector = res_vectors[-1]\n",
    "            if self.bias:\n",
    "                in_vector = np.concatenate((in_vector, [[self.bias]]))\n",
    "                res_vectors[-1] = in_vector\n",
    "            x = np.dot(self.weights_matrices[k], in_vector)\n",
    "            out_vector = activation_function(x)\n",
    "            res_vectors.append(out_vector)    \n",
    "\n",
    "        target_vector = np.array(target_vector, ndmin=2).T\n",
    "        output_errors = target_vector - out_vector  \n",
    "        for k in range(self.no_of_layers-1, 0, -1):\n",
    "            out_vector = res_vectors[k]\n",
    "            in_vector = res_vectors[k-1]\n",
    "            if self.bias and not k==(self.no_of_layers-1):\n",
    "                out_vector = out_vector[:-1,:].copy()\n",
    "            tmp = output_errors * out_vector * (1.0 - out_vector)  # sigma'(x) = sigma(x) (1 - sigma(x))\n",
    "            tmp = np.dot(tmp, in_vector.T)\n",
    "            self.weights_matrices[k-1] += self.learning_rate * tmp\n",
    "            output_errors = np.dot(self.weights_matrices[k-1].T, output_errors)\n",
    "            if self.bias:\n",
    "                output_errors = output_errors[:-1,:]\n",
    "\n",
    "    def run(self, input_vector):\n",
    "        if self.bias:\n",
    "            input_vector = np.concatenate((input_vector, [self.bias]))\n",
    "        in_vector = np.array(input_vector, ndmin=2).T\n",
    "        for k in range(self.no_of_layers-1):\n",
    "            x = np.dot(self.weights_matrices[k], in_vector)\n",
    "            out_vector = activation_function(x)\n",
    "            in_vector = out_vector\n",
    "            if self.bias:\n",
    "                in_vector = np.concatenate((in_vector, [[self.bias]]))\n",
    "        return out_vector\n",
    "\n",
    "    def evaluate(self, data, labels):\n",
    "        corrects, wrongs = 0, 0\n",
    "        for i in range(len(data)):\n",
    "            res = self.run(data[i])\n",
    "            res_max = res.argmax()\n",
    "            if res_max == labels[i]:\n",
    "                corrects += 1\n",
    "            else:\n",
    "                wrongs += 1\n",
    "        return corrects, wrongs\n",
    "\n",
    "ANN = NeuralNetwork(network_structure=[784, 200, 80, 10], learning_rate=0.01, bias=None)\n",
    "\n",
    "for epoch in range(3):\n",
    "    for i in range(len(train_imgs)):\n",
    "        # if i % 1000 == 0:\n",
    "            # print ('epoch:', epoch, 'img number:', i, '/', len(train_imgs))\n",
    "        ANN.train(train_imgs[i], train_labels_one_hot[i])\n",
    "\n",
    "corrects, wrongs = ANN.evaluate(test_imgs, test_labels)\n",
    "print(\"accruracy: test\", corrects / (corrects + wrongs))"
   ]
  },
  {
   "cell_type": "code",
   "execution_count": 21,
   "id": "37bf8c89",
   "metadata": {},
   "outputs": [],
   "source": [
    "import keras\n",
    "from keras.datasets import mnist\n",
    "from keras.layers import Dense\n",
    "from keras.models import Sequential\n",
    "from keras.utils import np_utils\n",
    "from matplotlib import pyplot as plt\n",
    "from random import randint\n",
    "\n",
    "# Preparing the dataset\n",
    "# Setup train and test splits\n",
    "(x_train, y_train), (x_test, y_test) = mnist.load_data()\n",
    "\n",
    "# Making a copy before flattening for the next code-segment which displays images\n",
    "x_train_drawing = x_train\n",
    "\n",
    "image_size = 784 # 28 x 28\n",
    "x_train = x_train.reshape(x_train.shape[0], image_size) \n",
    "x_test = x_test.reshape(x_test.shape[0], image_size)\n"
   ]
  },
  {
   "cell_type": "code",
   "execution_count": 22,
   "id": "79a8c26a",
   "metadata": {},
   "outputs": [],
   "source": [
    "# Convert class vectors to binary class matrices\n",
    "num_classes = 10\n",
    "y_train = keras.utils.np_utils.to_categorical(y_train, num_classes)\n",
    "y_test = keras.utils.np_utils.to_categorical(y_test, num_classes)\n",
    "\n"
   ]
  },
  {
   "cell_type": "code",
   "execution_count": 71,
   "id": "7a77c95f",
   "metadata": {},
   "outputs": [
    {
     "data": {
      "text/plain": [
       "array([[0., 0., 0., ..., 1., 0., 0.],\n",
       "       [0., 0., 1., ..., 0., 0., 0.],\n",
       "       [0., 1., 0., ..., 0., 0., 0.],\n",
       "       ...,\n",
       "       [0., 0., 0., ..., 0., 0., 0.],\n",
       "       [0., 0., 0., ..., 0., 0., 0.],\n",
       "       [0., 0., 0., ..., 0., 0., 0.]], dtype=float32)"
      ]
     },
     "execution_count": 71,
     "metadata": {},
     "output_type": "execute_result"
    }
   ],
   "source": [
    "y_test"
   ]
  },
  {
   "cell_type": "markdown",
   "id": "d76dee9c",
   "metadata": {
    "id": "VMyz-HcLqLaW"
   },
   "source": [
    "## Train & Evaluate The Network\n",
    "\n",
    "This code trains and evaluates the model we defined above. It also uses `matplotlib` and the history object provided by Keras, which tracks how the model behaves through it's training. The history object is worth exploring further, here we are using it to plot training and validation accuracy over time. "
   ]
  },
  {
   "cell_type": "code",
   "execution_count": 23,
   "id": "30b6641b",
   "metadata": {},
   "outputs": [],
   "source": [
    "def create_dense(layer_sizes):\n",
    "    model = Sequential()\n",
    "    model.add(Dense(layer_sizes[0], activation='sigmoid', input_shape=(image_size,)))\n",
    "\n",
    "    for s in layer_sizes[1:]:\n",
    "        model.add(Dense(units = s, activation = 'sigmoid'))\n",
    "\n",
    "    model.add(Dense(units=num_classes, activation='softmax'))\n",
    "\n",
    "    return model\n",
    "\n",
    "def evaluate(model, batch_size=128, epochs=5):\n",
    "    model.summary()\n",
    "    model.compile(optimizer='sgd', loss='categorical_crossentropy', metrics=['accuracy'])\n",
    "    history = model.fit(x_train, y_train, batch_size=batch_size, epochs=epochs, validation_split=.1, verbose=False)\n",
    "    loss, accuracy  = model.evaluate(x_test, y_test, verbose=False)\n",
    "    \n",
    "    plt.plot(history.history['accuracy'])\n",
    "    plt.plot(history.history['val_accuracy'])\n",
    "    plt.title('model accuracy')\n",
    "    plt.ylabel('accuracy')\n",
    "    plt.xlabel('epoch')\n",
    "    plt.legend(['training', 'validation'], loc='best')\n",
    "    plt.show()\n",
    "\n",
    "    print()\n",
    "    print(f'Test loss: {loss:.2}')\n",
    "    print(f'Test accuracy: {accuracy:.2}')\n"
   ]
  },
  {
   "cell_type": "code",
   "execution_count": 24,
   "id": "c56b0889",
   "metadata": {},
   "outputs": [
    {
     "name": "stdout",
     "output_type": "stream",
     "text": [
      "Model: \"sequential_5\"\n",
      "_________________________________________________________________\n",
      " Layer (type)                Output Shape              Param #   \n",
      "=================================================================\n",
      " dense_10 (Dense)            (None, 2048)              1607680   \n",
      "                                                                 \n",
      " dense_11 (Dense)            (None, 10)                20490     \n",
      "                                                                 \n",
      "=================================================================\n",
      "Total params: 1,628,170\n",
      "Trainable params: 1,628,170\n",
      "Non-trainable params: 0\n",
      "_________________________________________________________________\n"
     ]
    },
    {
     "data": {
      "image/png": "[encoded data removed]",
      "text/plain": [
       "<Figure size 432x288 with 1 Axes>"
      ]
     },
     "metadata": {
      "needs_background": "light"
     },
     "output_type": "display_data"
    },
    {
     "name": "stdout",
     "output_type": "stream",
     "text": [
      "\n",
      "Test loss: 0.18\n",
      "Test accuracy: 0.95\n"
     ]
    }
   ],
   "source": [
    "model = create_dense([2048])\n",
    "evaluate(model)"
   ]
  },
  {
   "cell_type": "markdown",
   "id": "875d922d",
   "metadata": {},
   "source": [
    "## Convolutional Neural Network"
   ]
  },
  {
   "cell_type": "code",
   "execution_count": 25,
   "id": "f265945b",
   "metadata": {},
   "outputs": [],
   "source": [
    "import tensorflow as tf\n",
    "import numpy as np\n",
    "from tensorflow.keras.layers import Input, Conv2D, MaxPooling2D, Dense, Flatten, Dropout, Activation, BatchNormalization\n",
    "from tensorflow.keras.models import Model, Sequential\n",
    "from tensorflow.keras.utils import to_categorical\n",
    "from tensorflow.keras.preprocessing.image import ImageDataGenerator\n",
    "from tensorflow.keras.regularizers import l2\n",
    "from tensorflow.keras.callbacks import ReduceLROnPlateau\n",
    "from sklearn.model_selection import train_test_split\n",
    "import matplotlib.pyplot as plt\n",
    "import pandas as pd\n",
    "import math"
   ]
  },
  {
   "cell_type": "code",
   "execution_count": 33,
   "id": "2f3844a1",
   "metadata": {},
   "outputs": [],
   "source": [
    "def CNNet(input_shape = (32, 32, 1), classes = 10):\n",
    "    \"\"\"\n",
    "    Implementation of a modified LeNet-5.\n",
    "    Only those layers with learnable parameters are counted in the layer numbering.\n",
    "    \n",
    "    Arguments:\n",
    "    input_shape -- shape of the images of the dataset\n",
    "    classes -- integer, number of classes\n",
    "\n",
    "    Returns:\n",
    "    model -- a Model() instance in Keras\n",
    "    \"\"\"\n",
    "    \n",
    "    model = Sequential([\n",
    "        \n",
    "    # Layer 1\n",
    "    Conv2D(filters = 32, kernel_size = 5, strides = 1, activation = 'relu', input_shape = (32,32,1), kernel_regularizer=l2(0.0005), name = 'convolution_1'),\n",
    "    \n",
    "    # Layer 2\n",
    "    Conv2D(filters = 32, kernel_size = 5, strides = 1, name = 'convolution_2', use_bias=False),\n",
    "    \n",
    "    # Layer 3    \n",
    "    BatchNormalization(name = 'batchnorm_1'),\n",
    "        \n",
    "    # -------------------------------- #  \n",
    "    Activation(\"relu\"),\n",
    "    MaxPooling2D(pool_size = 2, strides = 2, name = 'max_pool_1'),\n",
    "    Dropout(0.25, name = 'dropout_1'),\n",
    "    # -------------------------------- #  \n",
    "        \n",
    "    # Layer 3\n",
    "    Conv2D(filters = 64, kernel_size = 3, strides = 1, activation = 'relu', kernel_regularizer=l2(0.0005), name = 'convolution_3'),\n",
    "        \n",
    "    # Layer 4\n",
    "    Conv2D(filters = 64, kernel_size = 3, strides = 1, name = 'convolution_4', use_bias=False),\n",
    "        \n",
    "    # Layer 5\n",
    "    BatchNormalization(name = 'batchnorm_2'),\n",
    "        \n",
    "    # -------------------------------- #  \n",
    "    Activation(\"relu\"),\n",
    "    MaxPooling2D(pool_size = 2, strides = 2, name = 'max_pool_2'),\n",
    "    Dropout(0.25, name = 'dropout_2'),\n",
    "    Flatten(name = 'flatten'),\n",
    "    # -------------------------------- #  \n",
    "        \n",
    "    # Layer 6\n",
    "    Dense(units = 256, name = 'fully_connected_1', use_bias=False),\n",
    "        \n",
    "    # Layer 7\n",
    "    BatchNormalization(name = 'batchnorm_3'),\n",
    "    \n",
    "    # -------------------------------- #  \n",
    "    Activation(\"relu\"),\n",
    "    # -------------------------------- #  \n",
    "        \n",
    "    # Layer 8\n",
    "    Dense(units = 128, name = 'fully_connected_2', use_bias=False),\n",
    "        \n",
    "    # Layer 9\n",
    "    BatchNormalization(name = 'batchnorm_4'),\n",
    "        \n",
    "    # -------------------------------- #  \n",
    "    Activation(\"relu\"),\n",
    "    # -------------------------------- #  \n",
    "        \n",
    "    # Layer 10\n",
    "    Dense(units = 84, name = 'fully_connected_3', use_bias=False),\n",
    "        \n",
    "    # Layer 11\n",
    "    BatchNormalization(name = 'batchnorm_5'),\n",
    "        \n",
    "    # -------------------------------- #  \n",
    "    Activation(\"relu\"),\n",
    "    Dropout(0.25, name = 'dropout_3'),\n",
    "    # -------------------------------- #  \n",
    "\n",
    "    # Output\n",
    "    Dense(units = 10, activation = 'softmax', name = 'output')\n",
    "        \n",
    "    ])\n",
    "    \n",
    "    model._name = 'CNNet'\n",
    "\n",
    "    return model"
   ]
  },
  {
   "cell_type": "code",
   "execution_count": 34,
   "id": "42f07aa3",
   "metadata": {},
   "outputs": [],
   "source": [
    "CNN_Model = CNNet(input_shape = (32, 32, 1), classes = 10)"
   ]
  },
  {
   "cell_type": "code",
   "execution_count": 35,
   "id": "5e81629a",
   "metadata": {},
   "outputs": [],
   "source": [
    "CNN_Model.compile(optimizer='adam', loss='categorical_crossentropy', metrics=['accuracy'])"
   ]
  },
  {
   "cell_type": "code",
   "execution_count": 36,
   "id": "8f1fa401",
   "metadata": {},
   "outputs": [
    {
     "name": "stdout",
     "output_type": "stream",
     "text": [
      "Model: \"CNNet\"\n",
      "_________________________________________________________________\n",
      " Layer (type)                Output Shape              Param #   \n",
      "=================================================================\n",
      " convolution_1 (Conv2D)      (None, 28, 28, 32)        832       \n",
      "                                                                 \n",
      " convolution_2 (Conv2D)      (None, 24, 24, 32)        25600     \n",
      "                                                                 \n",
      " batchnorm_1 (BatchNormaliza  (None, 24, 24, 32)       128       \n",
      " tion)                                                           \n",
      "                                                                 \n",
      " activation_5 (Activation)   (None, 24, 24, 32)        0         \n",
      "                                                                 \n",
      " max_pool_1 (MaxPooling2D)   (None, 12, 12, 32)        0         \n",
      "                                                                 \n",
      " dropout_1 (Dropout)         (None, 12, 12, 32)        0         \n",
      "                                                                 \n",
      " convolution_3 (Conv2D)      (None, 10, 10, 64)        18496     \n",
      "                                                                 \n",
      " convolution_4 (Conv2D)      (None, 8, 8, 64)          36864     \n",
      "                                                                 \n",
      " batchnorm_2 (BatchNormaliza  (None, 8, 8, 64)         256       \n",
      " tion)                                                           \n",
      "                                                                 \n",
      " activation_6 (Activation)   (None, 8, 8, 64)          0         \n",
      "                                                                 \n",
      " max_pool_2 (MaxPooling2D)   (None, 4, 4, 64)          0         \n",
      "                                                                 \n",
      " dropout_2 (Dropout)         (None, 4, 4, 64)          0         \n",
      "                                                                 \n",
      " flatten (Flatten)           (None, 1024)              0         \n",
      "                                                                 \n",
      " fully_connected_1 (Dense)   (None, 256)               262144    \n",
      "                                                                 \n",
      " batchnorm_3 (BatchNormaliza  (None, 256)              1024      \n",
      " tion)                                                           \n",
      "                                                                 \n",
      " activation_7 (Activation)   (None, 256)               0         \n",
      "                                                                 \n",
      " fully_connected_2 (Dense)   (None, 128)               32768     \n",
      "                                                                 \n",
      " batchnorm_4 (BatchNormaliza  (None, 128)              512       \n",
      " tion)                                                           \n",
      "                                                                 \n",
      " activation_8 (Activation)   (None, 128)               0         \n",
      "                                                                 \n",
      " fully_connected_3 (Dense)   (None, 84)                10752     \n",
      "                                                                 \n",
      " batchnorm_5 (BatchNormaliza  (None, 84)               336       \n",
      " tion)                                                           \n",
      "                                                                 \n",
      " activation_9 (Activation)   (None, 84)                0         \n",
      "                                                                 \n",
      " dropout_3 (Dropout)         (None, 84)                0         \n",
      "                                                                 \n",
      " output (Dense)              (None, 10)                850       \n",
      "                                                                 \n",
      "=================================================================\n",
      "Total params: 390,562\n",
      "Trainable params: 389,434\n",
      "Non-trainable params: 1,128\n",
      "_________________________________________________________________\n"
     ]
    }
   ],
   "source": [
    "CNN_Model.summary()"
   ]
  },
  {
   "cell_type": "code",
   "execution_count": 67,
   "id": "d0058cba",
   "metadata": {},
   "outputs": [
    {
     "name": "stdout",
     "output_type": "stream",
     "text": [
      "convolution_1 (5, 5, 1, 32)\n",
      "convolution_2 (5, 5, 32, 32)\n",
      "convolution_3 (3, 3, 32, 64)\n",
      "convolution_4 (3, 3, 64, 64)\n"
     ]
    }
   ],
   "source": [
    "#summarize filters in each convolutional layer\n",
    "\n",
    "for layer in CNN_Model.layers:\n",
    "    #check for convolutional layer\n",
    "    if 'conv' not in layer.name:\n",
    "        continue\n",
    "\n",
    "    # #get filter weights\n",
    "    filter = layer.get_weights()[0]\n",
    "    print(layer.name, filter.shape)\n",
    "    f_min, f_max = filter.min(), filter.max()\n",
    "    filter_nrm = (filter - f_min) / (f_max - f_min)\n",
    "    "
   ]
  },
  {
   "cell_type": "code",
   "execution_count": 70,
   "id": "800b2dd8",
   "metadata": {},
   "outputs": [
    {
     "data": {
      "image/png": "[encoded data removed]",
      "text/plain": [
       "<Figure size 432x288 with 6 Axes>"
      ]
     },
     "metadata": {},
     "output_type": "display_data"
    }
   ],
   "source": [
    "n_filters, ix = 6, 1\n",
    "for i in range(n_filters):\n",
    "\t# get the filter\n",
    "\tf = filter[:, :, :, i]\n",
    "\t# plot each channel separately\n",
    "\tfor j in range(1):\n",
    "\t\t# specify subplot and turn of axis\n",
    "\t\tax = plt.subplot(n_filters, 1, ix)\n",
    "\t\tax.set_xticks([])\n",
    "\t\tax.set_yticks([])\n",
    "\t\t# plot filter channel in grayscale\n",
    "\t\tplt.imshow(f[:, :, j], cmap='gray')\n",
    "\t\tix += 1\n",
    "# show the figure\n",
    "plt.show()"
   ]
  },
  {
   "cell_type": "code",
   "execution_count": 43,
   "id": "3d76baae",
   "metadata": {},
   "outputs": [
    {
     "name": "stdout",
     "output_type": "stream",
     "text": [
      "Size of Dataset:  42000\n",
      "Size of Cross Validation Set:  2100\n"
     ]
    },
    {
     "data": {
      "text/plain": [
       "<matplotlib.image.AxesImage at 0x287ad7166a0>"
      ]
     },
     "execution_count": 43,
     "metadata": {},
     "output_type": "execute_result"
    },
    {
     "data": {
      "image/png": "[encoded data removed]",
      "text/plain": [
       "<Figure size 432x288 with 1 Axes>"
      ]
     },
     "metadata": {
      "needs_background": "light"
     },
     "output_type": "display_data"
    }
   ],
   "source": [
    "train = pd.read_csv(\"digit-recognizer/train_mnist.csv\")\n",
    "test = pd.read_csv(\"digit-recognizer/test_mnist.csv\")\n",
    "\n",
    "train.head()\n",
    "Y = train[['label']]\n",
    "X = train.drop(train.columns[[0]], axis=1)\n",
    "\n",
    "X = X.values.reshape(-1,28,28,1)\n",
    "test = test.values.reshape(-1,28,28,1)\n",
    "\n",
    "print(\"Size of Dataset: \" , len(X))\n",
    "\n",
    "cross_validation_size = int(len(X)*0.05)\n",
    "\n",
    "print(\"Size of Cross Validation Set: \" , cross_validation_size)\n",
    "\n",
    "random_seed = 2\n",
    "X_train, X_val, Y_train, Y_val = train_test_split(X, Y, test_size = cross_validation_size, random_state=random_seed)\n",
    "\n",
    "X_test = test\n",
    "\n",
    "plt.imshow(X_train[2][:,:,0])"
   ]
  },
  {
   "cell_type": "code",
   "execution_count": 44,
   "id": "59811298",
   "metadata": {},
   "outputs": [],
   "source": [
    "X_train = np.array(X_train)\n",
    "X_val = np.array(X_val)\n",
    "X_test = np.array(X_test)\n",
    "\n",
    "# Padding the images by 2 pixels since in the paper input images were 32x32\n",
    "X_train = np.pad(X_train, ((0,0),(2,2),(2,2),(0,0)), 'constant')\n",
    "X_val = np.pad(X_val, ((0,0),(2,2),(2,2),(0,0)), 'constant')\n",
    "X_test = np.pad(X_test, ((0,0),(2,2),(2,2),(0,0)), 'constant')\n",
    "\n",
    "# Standardization\n",
    "mean_px = X_train.mean().astype(np.float32)\n",
    "std_px = X_train.std().astype(np.float32)\n",
    "X_train = (X_train - mean_px)/(std_px)\n",
    "\n",
    "mean_px = X_val.mean().astype(np.float32)\n",
    "std_px = X_val.std().astype(np.float32)\n",
    "X_val = (X_val - mean_px)/(std_px)\n",
    "\n",
    "mean_px = X_test.mean().astype(np.float32)\n",
    "std_px = X_test.std().astype(np.float32)\n",
    "X_test = (X_test - mean_px)/(std_px)\n",
    "\n",
    "# One-hot encoding the labels\n",
    "Y_train = to_categorical(Y_train, num_classes = 10)\n",
    "Y_val = to_categorical(Y_val, num_classes = 10)"
   ]
  },
  {
   "cell_type": "code",
   "execution_count": 45,
   "id": "e65908c3",
   "metadata": {},
   "outputs": [],
   "source": [
    "# By using the image generator, we are not generating new data. We are only replacing the existing images. \n",
    "\n",
    "datagen = ImageDataGenerator(\n",
    "        featurewise_center = False,  # set input mean to 0 over the dataset\n",
    "        samplewise_center = False,  # set each sample mean to 0\n",
    "        featurewise_std_normalization = False,  # divide inputs by std of the dataset\n",
    "        samplewise_std_normalization = False,  # divide each input by its std\n",
    "        zca_whitening = False,  # apply ZCA whitening\n",
    "        rotation_range = 10,  # randomly rotate images in the range (degrees, 0 to 180)\n",
    "        zoom_range = 0.1, # Randomly zoom image \n",
    "        width_shift_range = 0.1,  # randomly shift images horizontally (fraction of total width)\n",
    "        height_shift_range = 0.1,  # randomly shift images vertically (fraction of total height)\n",
    "        horizontal_flip = False,  # randomly flip images\n",
    "        vertical_flip = False)  # randomly flip images\n",
    "\n",
    "datagen.fit(X_train)"
   ]
  },
  {
   "cell_type": "code",
   "execution_count": 46,
   "id": "eee978bc",
   "metadata": {},
   "outputs": [],
   "source": [
    "variable_learning_rate = ReduceLROnPlateau(monitor='val_loss', factor = 0.2, patience = 2)"
   ]
  },
  {
   "cell_type": "code",
   "execution_count": 47,
   "id": "27d4d875",
   "metadata": {},
   "outputs": [
    {
     "name": "stdout",
     "output_type": "stream",
     "text": [
      "Epoch 1/30\n",
      "624/624 [==============================] - 93s 147ms/step - loss: 0.2567 - accuracy: 0.9334 - val_loss: 0.1383 - val_accuracy: 0.9643 - lr: 0.0010\n",
      "Epoch 2/30\n",
      "624/624 [==============================] - 90s 144ms/step - loss: 0.0955 - accuracy: 0.9776 - val_loss: 0.0740 - val_accuracy: 0.9843 - lr: 0.0010\n",
      "Epoch 3/30\n",
      "624/624 [==============================] - 95s 153ms/step - loss: 0.0768 - accuracy: 0.9826 - val_loss: 0.0519 - val_accuracy: 0.9900 - lr: 0.0010\n",
      "Epoch 4/30\n",
      "624/624 [==============================] - 102s 163ms/step - loss: 0.0675 - accuracy: 0.9842 - val_loss: 0.0457 - val_accuracy: 0.9910 - lr: 0.0010\n",
      "Epoch 5/30\n",
      "624/624 [==============================] - 92s 147ms/step - loss: 0.0565 - accuracy: 0.9872 - val_loss: 0.0463 - val_accuracy: 0.9890 - lr: 0.0010\n",
      "Epoch 6/30\n",
      "624/624 [==============================] - 91s 146ms/step - loss: 0.0542 - accuracy: 0.9869 - val_loss: 0.0451 - val_accuracy: 0.9905 - lr: 0.0010\n",
      "Epoch 7/30\n",
      "624/624 [==============================] - 86s 138ms/step - loss: 0.0463 - accuracy: 0.9885 - val_loss: 0.0428 - val_accuracy: 0.9900 - lr: 0.0010\n",
      "Epoch 8/30\n",
      "624/624 [==============================] - 90s 144ms/step - loss: 0.0421 - accuracy: 0.9895 - val_loss: 0.0483 - val_accuracy: 0.9886 - lr: 0.0010\n",
      "Epoch 9/30\n",
      "624/624 [==============================] - 104s 166ms/step - loss: 0.0430 - accuracy: 0.9897 - val_loss: 0.0367 - val_accuracy: 0.9890 - lr: 0.0010\n",
      "Epoch 10/30\n",
      "624/624 [==============================] - 104s 167ms/step - loss: 0.0382 - accuracy: 0.9907 - val_loss: 0.0314 - val_accuracy: 0.9929 - lr: 0.0010\n",
      "Epoch 11/30\n",
      "624/624 [==============================] - 115s 184ms/step - loss: 0.0390 - accuracy: 0.9905 - val_loss: 0.0348 - val_accuracy: 0.9919 - lr: 0.0010\n",
      "Epoch 12/30\n",
      "624/624 [==============================] - 113s 181ms/step - loss: 0.0364 - accuracy: 0.9914 - val_loss: 0.0256 - val_accuracy: 0.9952 - lr: 0.0010\n",
      "Epoch 13/30\n",
      "624/624 [==============================] - 113s 180ms/step - loss: 0.0352 - accuracy: 0.9918 - val_loss: 0.0307 - val_accuracy: 0.9938 - lr: 0.0010\n",
      "Epoch 14/30\n",
      "624/624 [==============================] - 100s 160ms/step - loss: 0.0342 - accuracy: 0.9921 - val_loss: 0.0271 - val_accuracy: 0.9948 - lr: 0.0010\n",
      "Epoch 15/30\n",
      "624/624 [==============================] - 95s 152ms/step - loss: 0.0208 - accuracy: 0.9961 - val_loss: 0.0197 - val_accuracy: 0.9967 - lr: 2.0000e-04\n",
      "Epoch 16/30\n",
      "624/624 [==============================] - 86s 138ms/step - loss: 0.0178 - accuracy: 0.9969 - val_loss: 0.0182 - val_accuracy: 0.9976 - lr: 2.0000e-04\n",
      "Epoch 17/30\n",
      "624/624 [==============================] - 89s 143ms/step - loss: 0.0167 - accuracy: 0.9966 - val_loss: 0.0186 - val_accuracy: 0.9957 - lr: 2.0000e-04\n",
      "Epoch 18/30\n",
      "624/624 [==============================] - 97s 156ms/step - loss: 0.0160 - accuracy: 0.9971 - val_loss: 0.0190 - val_accuracy: 0.9962 - lr: 2.0000e-04\n",
      "Epoch 19/30\n",
      "624/624 [==============================] - 98s 156ms/step - loss: 0.0135 - accuracy: 0.9976 - val_loss: 0.0163 - val_accuracy: 0.9967 - lr: 4.0000e-05\n",
      "Epoch 20/30\n",
      "624/624 [==============================] - 111s 178ms/step - loss: 0.0127 - accuracy: 0.9978 - val_loss: 0.0170 - val_accuracy: 0.9971 - lr: 4.0000e-05\n",
      "Epoch 21/30\n",
      "624/624 [==============================] - 98s 157ms/step - loss: 0.0130 - accuracy: 0.9977 - val_loss: 0.0162 - val_accuracy: 0.9976 - lr: 4.0000e-05\n",
      "Epoch 22/30\n",
      "624/624 [==============================] - 87s 140ms/step - loss: 0.0125 - accuracy: 0.9976 - val_loss: 0.0171 - val_accuracy: 0.9962 - lr: 4.0000e-05\n",
      "Epoch 23/30\n",
      "624/624 [==============================] - 88s 141ms/step - loss: 0.0112 - accuracy: 0.9981 - val_loss: 0.0159 - val_accuracy: 0.9976 - lr: 4.0000e-05\n",
      "Epoch 24/30\n",
      "624/624 [==============================] - 88s 140ms/step - loss: 0.0112 - accuracy: 0.9981 - val_loss: 0.0159 - val_accuracy: 0.9976 - lr: 4.0000e-05\n",
      "Epoch 25/30\n",
      "624/624 [==============================] - 88s 142ms/step - loss: 0.0109 - accuracy: 0.9982 - val_loss: 0.0159 - val_accuracy: 0.9976 - lr: 4.0000e-05\n",
      "Epoch 26/30\n",
      "624/624 [==============================] - 76s 122ms/step - loss: 0.0109 - accuracy: 0.9981 - val_loss: 0.0160 - val_accuracy: 0.9971 - lr: 8.0000e-06\n",
      "Epoch 27/30\n",
      "624/624 [==============================] - 73s 117ms/step - loss: 0.0105 - accuracy: 0.9982 - val_loss: 0.0153 - val_accuracy: 0.9976 - lr: 8.0000e-06\n",
      "Epoch 28/30\n",
      "624/624 [==============================] - 74s 119ms/step - loss: 0.0104 - accuracy: 0.9984 - val_loss: 0.0157 - val_accuracy: 0.9976 - lr: 8.0000e-06\n",
      "Epoch 29/30\n",
      "624/624 [==============================] - 73s 116ms/step - loss: 0.0113 - accuracy: 0.9980 - val_loss: 0.0156 - val_accuracy: 0.9976 - lr: 8.0000e-06\n",
      "Epoch 30/30\n",
      "624/624 [==============================] - 73s 117ms/step - loss: 0.0103 - accuracy: 0.9983 - val_loss: 0.0159 - val_accuracy: 0.9976 - lr: 1.6000e-06\n"
     ]
    }
   ],
   "source": [
    "history = CNN_Model.fit(X_train, Y_train, epochs = 30, batch_size = 64, callbacks = [variable_learning_rate], validation_data = (X_val,Y_val))"
   ]
  },
  {
   "cell_type": "code",
   "execution_count": 48,
   "id": "827e51f9",
   "metadata": {},
   "outputs": [
    {
     "data": {
      "text/plain": [
       "<Figure size 432x288 with 0 Axes>"
      ]
     },
     "execution_count": 48,
     "metadata": {},
     "output_type": "execute_result"
    },
    {
     "data": {
      "image/png": "[encoded data removed]",
      "text/plain": [
       "<Figure size 432x288 with 1 Axes>"
      ]
     },
     "metadata": {
      "needs_background": "light"
     },
     "output_type": "display_data"
    },
    {
     "data": {
      "image/png": "[encoded data removed]",
      "text/plain": [
       "<Figure size 432x288 with 1 Axes>"
      ]
     },
     "metadata": {
      "needs_background": "light"
     },
     "output_type": "display_data"
    },
    {
     "data": {
      "text/plain": [
       "<Figure size 432x288 with 0 Axes>"
      ]
     },
     "metadata": {},
     "output_type": "display_data"
    }
   ],
   "source": [
    "%matplotlib inline\n",
    "\n",
    "import matplotlib.image  as mpimg\n",
    "import matplotlib.pyplot as plt\n",
    "\n",
    "#-----------------------------------------------------------\n",
    "# Retrieve a list of list results on training and test data\n",
    "# sets for each training epoch\n",
    "#-----------------------------------------------------------\n",
    "acc=history.history['accuracy']\n",
    "val_acc=history.history['val_accuracy']\n",
    "loss=history.history['loss']\n",
    "val_loss=history.history['val_loss']\n",
    "\n",
    "epochs=range(len(acc)) # Get number of epochs\n",
    "\n",
    "#------------------------------------------------\n",
    "# Plot training and validation accuracy per epoch\n",
    "#------------------------------------------------\n",
    "plt.plot(epochs, acc, 'r', \"Training Accuracy\")\n",
    "plt.plot(epochs, val_acc, 'b', \"Validation Accuracy\")\n",
    "plt.title('Training and validation accuracy')\n",
    "plt.figure()\n",
    "\n",
    "#------------------------------------------------\n",
    "# Plot training and validation loss per epoch\n",
    "#------------------------------------------------\n",
    "plt.plot(epochs, loss, 'r', \"Training Loss\")\n",
    "plt.plot(epochs, val_loss, 'b', \"Validation Loss\")\n",
    "plt.figure()"
   ]
  },
  {
   "cell_type": "markdown",
   "id": "a84630df",
   "metadata": {},
   "source": [
    "## 3. Comparing the performance of the two models"
   ]
  },
  {
   "cell_type": "markdown",
   "id": "9d7a630a",
   "metadata": {},
   "source": [
    "When using CNN, spatial features are extracted from image input, making CNN ideal when thousands of features need to be extracted. Instead of having to measure each individual feature, CNN gathers these features on its own. By doing this, there are less trainable parameters in a CNN, as seen above, we have 389,434 trainable parameters compared to ANN which has 1,628,170. \n",
    "\n",
    "ANN having 1,628,170 is because 2-dimensional images need to be converted to 1-dimensional vectors. This increases the number of trainable parameters exponentially. Increasing trainable parameters is simply an expensive venture on storage and processing capability.\n",
    "\n"
   ]
  },
  {
   "cell_type": "markdown",
   "id": "51cf7551",
   "metadata": {},
   "source": []
  }
 ],
 "metadata": {
  "interpreter": {
   "hash": "cecacdee79960deaff6922620289fbba3512fa0446a24cb89739189e06ed7e98"
  },
  "kernelspec": {
   "display_name": "tensorflow_env",
   "language": "python",
   "name": "python3"
  },
  "language_info": {
   "codemirror_mode": {
    "name": "ipython",
    "version": 3
   },
   "file_extension": ".py",
   "mimetype": "text/x-python",
   "name": "python",
   "nbconvert_exporter": "python",
   "pygments_lexer": "ipython3",
   "version": "3.9.2"
  }
 },
 "nbformat": 4,
 "nbformat_minor": 5
}
